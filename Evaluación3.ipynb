{
 "cells": [
  {
   "cell_type": "markdown",
   "id": "7783a5b2",
   "metadata": {},
   "source": [
    "# Fase 1: Exploración y Limpieza"
   ]
  },
  {
   "cell_type": "markdown",
   "id": "4cdf9631",
   "metadata": {},
   "source": [
    "## Exploración Inicial"
   ]
  },
  {
   "cell_type": "code",
   "execution_count": 92,
   "id": "9b5e2d28",
   "metadata": {},
   "outputs": [],
   "source": [
    "#instalar librerías\n",
    "import pandas as pd\n",
    "import matplotlib.pyplot as plt\n",
    "import seaborn as sns\n",
    "from scipy.stats import mannwhitneyu\n",
    "\n",
    "# para visualizar todas las columnas de los DataFrames\n",
    "pd.set_option('display.max_columns', None) \n",
    "\n",
    "# gestión de los warnings\n",
    "import warnings\n",
    "warnings.filterwarnings(\"ignore\")\n",
    "\n",
    "# carga de los 2 archivos\n",
    "df_loyalty = pd.read_csv('Customer Loyalty History.csv')\n",
    "df_activity = pd.read_csv('Customer Flight Activity.csv')"
   ]
  },
  {
   "cell_type": "code",
   "execution_count": 59,
   "id": "10273ad5",
   "metadata": {},
   "outputs": [
    {
     "name": "stdout",
     "output_type": "stream",
     "text": [
      "Index(['Loyalty Number', 'Country', 'Province', 'City', 'Postal Code',\n",
      "       'Gender', 'Education', 'Salary', 'Marital Status', 'Loyalty Card',\n",
      "       'CLV', 'Enrollment Type', 'Enrollment Year', 'Enrollment Month',\n",
      "       'Cancellation Year', 'Cancellation Month'],\n",
      "      dtype='object')\n",
      "Index(['Loyalty Number', 'Year', 'Month', 'Flights Booked',\n",
      "       'Flights with Companions', 'Total Flights', 'Distance',\n",
      "       'Points Accumulated', 'Points Redeemed', 'Dollar Cost Points Redeemed'],\n",
      "      dtype='object')\n"
     ]
    }
   ],
   "source": [
    "#printeo las columnas de cada df\n",
    "print(df_loyalty.columns)\n",
    "print(df_activity.columns)"
   ]
  },
  {
   "cell_type": "code",
   "execution_count": 60,
   "id": "6ffc1888",
   "metadata": {},
   "outputs": [
    {
     "name": "stdout",
     "output_type": "stream",
     "text": [
      "Shape: (16737, 16)\n",
      "Shape: (405624, 10)\n"
     ]
    }
   ],
   "source": [
    "#muestro el número de filas y columnas de ambos df\n",
    "print(\"Shape:\", df_loyalty.shape)\n",
    "print(\"Shape:\", df_activity.shape)"
   ]
  },
  {
   "cell_type": "code",
   "execution_count": 61,
   "id": "09ec9f2c",
   "metadata": {},
   "outputs": [
    {
     "name": "stdout",
     "output_type": "stream",
     "text": [
      "   Loyalty Number Country          Province       City Postal Code  Gender  \\\n",
      "0          480934  Canada           Ontario    Toronto     M2Z 4K1  Female   \n",
      "1          549612  Canada           Alberta   Edmonton     T3G 6Y6    Male   \n",
      "2          429460  Canada  British Columbia  Vancouver     V6E 3D9    Male   \n",
      "3          608370  Canada           Ontario    Toronto     P1W 1K4    Male   \n",
      "4          530508  Canada            Quebec       Hull     J8Y 3Z5    Male   \n",
      "\n",
      "  Education    Salary Marital Status Loyalty Card      CLV Enrollment Type  \\\n",
      "0  Bachelor   83236.0        Married         Star  3839.14        Standard   \n",
      "1   College       NaN       Divorced         Star  3839.61        Standard   \n",
      "2   College       NaN         Single         Star  3839.75        Standard   \n",
      "3   College       NaN         Single         Star  3839.75        Standard   \n",
      "4  Bachelor  103495.0        Married         Star  3842.79        Standard   \n",
      "\n",
      "   Enrollment Year  Enrollment Month  Cancellation Year  Cancellation Month  \n",
      "0             2016                 2                NaN                 NaN  \n",
      "1             2016                 3                NaN                 NaN  \n",
      "2             2014                 7             2018.0                 1.0  \n",
      "3             2013                 2                NaN                 NaN  \n",
      "4             2014                10                NaN                 NaN  \n",
      "   Loyalty Number  Year  Month  Flights Booked  Flights with Companions  \\\n",
      "0          100018  2017      1               3                        0   \n",
      "1          100102  2017      1              10                        4   \n",
      "2          100140  2017      1               6                        0   \n",
      "3          100214  2017      1               0                        0   \n",
      "4          100272  2017      1               0                        0   \n",
      "\n",
      "   Total Flights  Distance  Points Accumulated  Points Redeemed  \\\n",
      "0              3      1521               152.0                0   \n",
      "1             14      2030               203.0                0   \n",
      "2              6      1200               120.0                0   \n",
      "3              0         0                 0.0                0   \n",
      "4              0         0                 0.0                0   \n",
      "\n",
      "   Dollar Cost Points Redeemed  \n",
      "0                            0  \n",
      "1                            0  \n",
      "2                            0  \n",
      "3                            0  \n",
      "4                            0  \n"
     ]
    }
   ],
   "source": [
    "#muestro las 5 primeras filas de cada df\n",
    "print(df_loyalty.head())\n",
    "print(df_activity.head())"
   ]
  },
  {
   "cell_type": "code",
   "execution_count": 62,
   "id": "ac1bc640",
   "metadata": {},
   "outputs": [
    {
     "name": "stdout",
     "output_type": "stream",
     "text": [
      "       Loyalty Number Country          Province        City Postal Code  \\\n",
      "16732          823768  Canada  British Columbia   Vancouver     V6E 3Z3   \n",
      "16733          680886  Canada      Saskatchewan      Regina     S1J 3C5   \n",
      "16734          776187  Canada  British Columbia   Vancouver     V5R 1W3   \n",
      "16735          906428  Canada             Yukon  Whitehorse     Y2K 6R0   \n",
      "16736          652627  Canada          Manitoba    Winnipeg     R2C 0M5   \n",
      "\n",
      "       Gender Education   Salary Marital Status Loyalty Card       CLV  \\\n",
      "16732  Female   College      NaN        Married         Star  61850.19   \n",
      "16733  Female  Bachelor  89210.0        Married         Star  67907.27   \n",
      "16734    Male   College      NaN         Single         Star  74228.52   \n",
      "16735    Male  Bachelor -57297.0        Married         Star  10018.66   \n",
      "16736  Female  Bachelor  75049.0        Married         Star  83325.38   \n",
      "\n",
      "      Enrollment Type  Enrollment Year  Enrollment Month  Cancellation Year  \\\n",
      "16732        Standard             2012                12                NaN   \n",
      "16733        Standard             2014                 9                NaN   \n",
      "16734        Standard             2014                 3                NaN   \n",
      "16735  2018 Promotion             2018                 4                NaN   \n",
      "16736        Standard             2015                12             2016.0   \n",
      "\n",
      "       Cancellation Month  \n",
      "16732                 NaN  \n",
      "16733                 NaN  \n",
      "16734                 NaN  \n",
      "16735                 NaN  \n",
      "16736                 8.0  \n",
      "        Loyalty Number  Year  Month  Flights Booked  Flights with Companions  \\\n",
      "405619          999902  2018     12               0                        0   \n",
      "405620          999911  2018     12               0                        0   \n",
      "405621          999940  2018     12               3                        0   \n",
      "405622          999982  2018     12               0                        0   \n",
      "405623          999986  2018     12               0                        0   \n",
      "\n",
      "        Total Flights  Distance  Points Accumulated  Points Redeemed  \\\n",
      "405619              0         0                 0.0                0   \n",
      "405620              0         0                 0.0                0   \n",
      "405621              3      1233               123.0                0   \n",
      "405622              0         0                 0.0                0   \n",
      "405623              0         0                 0.0                0   \n",
      "\n",
      "        Dollar Cost Points Redeemed  \n",
      "405619                            0  \n",
      "405620                            0  \n",
      "405621                            0  \n",
      "405622                            0  \n",
      "405623                            0  \n"
     ]
    }
   ],
   "source": [
    "#printeo las 5 últimas filas de ambos df\n",
    "print(df_loyalty.tail())\n",
    "print(df_activity.tail())"
   ]
  },
  {
   "cell_type": "code",
   "execution_count": 63,
   "id": "ef072ff1",
   "metadata": {},
   "outputs": [
    {
     "name": "stdout",
     "output_type": "stream",
     "text": [
      "<class 'pandas.core.frame.DataFrame'>\n",
      "RangeIndex: 16737 entries, 0 to 16736\n",
      "Data columns (total 16 columns):\n",
      " #   Column              Non-Null Count  Dtype  \n",
      "---  ------              --------------  -----  \n",
      " 0   Loyalty Number      16737 non-null  int64  \n",
      " 1   Country             16737 non-null  object \n",
      " 2   Province            16737 non-null  object \n",
      " 3   City                16737 non-null  object \n",
      " 4   Postal Code         16737 non-null  object \n",
      " 5   Gender              16737 non-null  object \n",
      " 6   Education           16737 non-null  object \n",
      " 7   Salary              12499 non-null  float64\n",
      " 8   Marital Status      16737 non-null  object \n",
      " 9   Loyalty Card        16737 non-null  object \n",
      " 10  CLV                 16737 non-null  float64\n",
      " 11  Enrollment Type     16737 non-null  object \n",
      " 12  Enrollment Year     16737 non-null  int64  \n",
      " 13  Enrollment Month    16737 non-null  int64  \n",
      " 14  Cancellation Year   2067 non-null   float64\n",
      " 15  Cancellation Month  2067 non-null   float64\n",
      "dtypes: float64(4), int64(3), object(9)\n",
      "memory usage: 2.0+ MB\n",
      "None\n",
      "<class 'pandas.core.frame.DataFrame'>\n",
      "RangeIndex: 405624 entries, 0 to 405623\n",
      "Data columns (total 10 columns):\n",
      " #   Column                       Non-Null Count   Dtype  \n",
      "---  ------                       --------------   -----  \n",
      " 0   Loyalty Number               405624 non-null  int64  \n",
      " 1   Year                         405624 non-null  int64  \n",
      " 2   Month                        405624 non-null  int64  \n",
      " 3   Flights Booked               405624 non-null  int64  \n",
      " 4   Flights with Companions      405624 non-null  int64  \n",
      " 5   Total Flights                405624 non-null  int64  \n",
      " 6   Distance                     405624 non-null  int64  \n",
      " 7   Points Accumulated           405624 non-null  float64\n",
      " 8   Points Redeemed              405624 non-null  int64  \n",
      " 9   Dollar Cost Points Redeemed  405624 non-null  int64  \n",
      "dtypes: float64(1), int64(9)\n",
      "memory usage: 30.9 MB\n",
      "None\n"
     ]
    }
   ],
   "source": [
    "#muestro la información básica de cada df\n",
    "print(df_loyalty.info())\n",
    "print(df_activity.info())"
   ]
  },
  {
   "cell_type": "code",
   "execution_count": 64,
   "id": "16346f0e",
   "metadata": {},
   "outputs": [
    {
     "name": "stdout",
     "output_type": "stream",
     "text": [
      "                      count           mean            std        min  \\\n",
      "Loyalty Number      16737.0  549735.880445  258912.132453  100018.00   \n",
      "Salary              12499.0   79245.609409   35008.297285  -58486.00   \n",
      "CLV                 16737.0    7988.896536    6860.982280    1898.01   \n",
      "Enrollment Year     16737.0    2015.253211       1.979111    2012.00   \n",
      "Enrollment Month    16737.0       6.669116       3.398958       1.00   \n",
      "Cancellation Year    2067.0    2016.503145       1.380743    2013.00   \n",
      "Cancellation Month   2067.0       6.962748       3.455297       1.00   \n",
      "\n",
      "                          25%        50%        75%        max  \n",
      "Loyalty Number      326603.00  550434.00  772019.00  999986.00  \n",
      "Salary               59246.50   73455.00   88517.50  407228.00  \n",
      "CLV                   3980.84    5780.18    8940.58   83325.38  \n",
      "Enrollment Year       2014.00    2015.00    2017.00    2018.00  \n",
      "Enrollment Month         4.00       7.00      10.00      12.00  \n",
      "Cancellation Year     2016.00    2017.00    2018.00    2018.00  \n",
      "Cancellation Month       4.00       7.00      10.00      12.00  \n",
      "                                count           mean            std       min  \\\n",
      "Loyalty Number               405624.0  550037.873084  258935.286969  100018.0   \n",
      "Year                         405624.0    2017.500000       0.500001    2017.0   \n",
      "Month                        405624.0       6.500000       3.452057       1.0   \n",
      "Flights Booked               405624.0       4.115052       5.225518       0.0   \n",
      "Flights with Companions      405624.0       1.031805       2.076869       0.0   \n",
      "Total Flights                405624.0       5.146858       6.521227       0.0   \n",
      "Distance                     405624.0    1208.880059    1433.155320       0.0   \n",
      "Points Accumulated           405624.0     123.692721     146.599831       0.0   \n",
      "Points Redeemed              405624.0      30.696872     125.486049       0.0   \n",
      "Dollar Cost Points Redeemed  405624.0       2.484503      10.150038       0.0   \n",
      "\n",
      "                                   25%       50%        75%       max  \n",
      "Loyalty Number               326961.00  550834.0  772194.00  999986.0  \n",
      "Year                           2017.00    2017.5    2018.00    2018.0  \n",
      "Month                             3.75       6.5       9.25      12.0  \n",
      "Flights Booked                    0.00       1.0       8.00      21.0  \n",
      "Flights with Companions           0.00       0.0       1.00      11.0  \n",
      "Total Flights                     0.00       1.0      10.00      32.0  \n",
      "Distance                          0.00     488.0    2336.00    6293.0  \n",
      "Points Accumulated                0.00      50.0     239.00     676.5  \n",
      "Points Redeemed                   0.00       0.0       0.00     876.0  \n",
      "Dollar Cost Points Redeemed       0.00       0.0       0.00      71.0  \n"
     ]
    }
   ],
   "source": [
    "#printeo las estadísticas básicas de los 2 df y las transpongo\n",
    "print(df_loyalty.describe().T)\n",
    "print(df_activity.describe().T)"
   ]
  },
  {
   "cell_type": "code",
   "execution_count": 65,
   "id": "ef1db50b",
   "metadata": {},
   "outputs": [
    {
     "name": "stdout",
     "output_type": "stream",
     "text": [
      "Shape del dataframe unido: (405624, 25)\n"
     ]
    }
   ],
   "source": [
    "#creo un nuevo df para hacer intersección interna por la columna 'Loyalty Number' porque es el identificador únco en ambos archivos\n",
    "df = pd.merge(df_activity, df_loyalty, on='Loyalty Number', how='inner') #inner: mantiene las filas del mismo valor en ambos dataframes\n",
    "print(\"Shape del dataframe unido:\", df.shape)"
   ]
  },
  {
   "cell_type": "code",
   "execution_count": 66,
   "id": "37a4beb0",
   "metadata": {},
   "outputs": [
    {
     "data": {
      "text/plain": [
       "Index(['Loyalty Number', 'Year', 'Month', 'Flights Booked',\n",
       "       'Flights with Companions', 'Total Flights', 'Distance',\n",
       "       'Points Accumulated', 'Points Redeemed', 'Dollar Cost Points Redeemed',\n",
       "       'Country', 'Province', 'City', 'Postal Code', 'Gender', 'Education',\n",
       "       'Salary', 'Marital Status', 'Loyalty Card', 'CLV', 'Enrollment Type',\n",
       "       'Enrollment Year', 'Enrollment Month', 'Cancellation Year',\n",
       "       'Cancellation Month'],\n",
       "      dtype='object')"
      ]
     },
     "execution_count": 66,
     "metadata": {},
     "output_type": "execute_result"
    }
   ],
   "source": [
    "#muestro las columnas del df unido\n",
    "df.columns"
   ]
  },
  {
   "cell_type": "code",
   "execution_count": 111,
   "id": "1cd25c84",
   "metadata": {},
   "outputs": [
    {
     "name": "stdout",
     "output_type": "stream",
     "text": [
      "🔍 Primeras filas del DataFrame:\n"
     ]
    },
    {
     "data": {
      "text/html": [
       "<div>\n",
       "<style scoped>\n",
       "    .dataframe tbody tr th:only-of-type {\n",
       "        vertical-align: middle;\n",
       "    }\n",
       "\n",
       "    .dataframe tbody tr th {\n",
       "        vertical-align: top;\n",
       "    }\n",
       "\n",
       "    .dataframe thead th {\n",
       "        text-align: right;\n",
       "    }\n",
       "</style>\n",
       "<table border=\"1\" class=\"dataframe\">\n",
       "  <thead>\n",
       "    <tr style=\"text-align: right;\">\n",
       "      <th></th>\n",
       "      <th>Loyalty Number</th>\n",
       "      <th>Country</th>\n",
       "      <th>Province</th>\n",
       "      <th>City</th>\n",
       "      <th>Postal Code</th>\n",
       "      <th>Gender</th>\n",
       "      <th>Education</th>\n",
       "      <th>Salary</th>\n",
       "      <th>Marital Status</th>\n",
       "      <th>Loyalty Card</th>\n",
       "      <th>CLV</th>\n",
       "      <th>Enrollment Type</th>\n",
       "      <th>Enrollment Year</th>\n",
       "      <th>Enrollment Month</th>\n",
       "      <th>Cancellation Year</th>\n",
       "      <th>Cancellation Month</th>\n",
       "    </tr>\n",
       "  </thead>\n",
       "  <tbody>\n",
       "    <tr>\n",
       "      <th>0</th>\n",
       "      <td>480934</td>\n",
       "      <td>Canada</td>\n",
       "      <td>Ontario</td>\n",
       "      <td>Toronto</td>\n",
       "      <td>M2Z 4K1</td>\n",
       "      <td>Female</td>\n",
       "      <td>Bachelor</td>\n",
       "      <td>83236.0</td>\n",
       "      <td>Married</td>\n",
       "      <td>Star</td>\n",
       "      <td>3839.14</td>\n",
       "      <td>Standard</td>\n",
       "      <td>2016</td>\n",
       "      <td>2</td>\n",
       "      <td>NaN</td>\n",
       "      <td>NaN</td>\n",
       "    </tr>\n",
       "    <tr>\n",
       "      <th>1</th>\n",
       "      <td>549612</td>\n",
       "      <td>Canada</td>\n",
       "      <td>Alberta</td>\n",
       "      <td>Edmonton</td>\n",
       "      <td>T3G 6Y6</td>\n",
       "      <td>Male</td>\n",
       "      <td>College</td>\n",
       "      <td>NaN</td>\n",
       "      <td>Divorced</td>\n",
       "      <td>Star</td>\n",
       "      <td>3839.61</td>\n",
       "      <td>Standard</td>\n",
       "      <td>2016</td>\n",
       "      <td>3</td>\n",
       "      <td>NaN</td>\n",
       "      <td>NaN</td>\n",
       "    </tr>\n",
       "    <tr>\n",
       "      <th>2</th>\n",
       "      <td>429460</td>\n",
       "      <td>Canada</td>\n",
       "      <td>British Columbia</td>\n",
       "      <td>Vancouver</td>\n",
       "      <td>V6E 3D9</td>\n",
       "      <td>Male</td>\n",
       "      <td>College</td>\n",
       "      <td>NaN</td>\n",
       "      <td>Single</td>\n",
       "      <td>Star</td>\n",
       "      <td>3839.75</td>\n",
       "      <td>Standard</td>\n",
       "      <td>2014</td>\n",
       "      <td>7</td>\n",
       "      <td>2018.0</td>\n",
       "      <td>1.0</td>\n",
       "    </tr>\n",
       "    <tr>\n",
       "      <th>3</th>\n",
       "      <td>608370</td>\n",
       "      <td>Canada</td>\n",
       "      <td>Ontario</td>\n",
       "      <td>Toronto</td>\n",
       "      <td>P1W 1K4</td>\n",
       "      <td>Male</td>\n",
       "      <td>College</td>\n",
       "      <td>NaN</td>\n",
       "      <td>Single</td>\n",
       "      <td>Star</td>\n",
       "      <td>3839.75</td>\n",
       "      <td>Standard</td>\n",
       "      <td>2013</td>\n",
       "      <td>2</td>\n",
       "      <td>NaN</td>\n",
       "      <td>NaN</td>\n",
       "    </tr>\n",
       "    <tr>\n",
       "      <th>4</th>\n",
       "      <td>530508</td>\n",
       "      <td>Canada</td>\n",
       "      <td>Quebec</td>\n",
       "      <td>Hull</td>\n",
       "      <td>J8Y 3Z5</td>\n",
       "      <td>Male</td>\n",
       "      <td>Bachelor</td>\n",
       "      <td>103495.0</td>\n",
       "      <td>Married</td>\n",
       "      <td>Star</td>\n",
       "      <td>3842.79</td>\n",
       "      <td>Standard</td>\n",
       "      <td>2014</td>\n",
       "      <td>10</td>\n",
       "      <td>NaN</td>\n",
       "      <td>NaN</td>\n",
       "    </tr>\n",
       "  </tbody>\n",
       "</table>\n",
       "</div>"
      ],
      "text/plain": [
       "   Loyalty Number Country          Province       City Postal Code  Gender  \\\n",
       "0          480934  Canada           Ontario    Toronto     M2Z 4K1  Female   \n",
       "1          549612  Canada           Alberta   Edmonton     T3G 6Y6    Male   \n",
       "2          429460  Canada  British Columbia  Vancouver     V6E 3D9    Male   \n",
       "3          608370  Canada           Ontario    Toronto     P1W 1K4    Male   \n",
       "4          530508  Canada            Quebec       Hull     J8Y 3Z5    Male   \n",
       "\n",
       "  Education    Salary Marital Status Loyalty Card      CLV Enrollment Type  \\\n",
       "0  Bachelor   83236.0        Married         Star  3839.14        Standard   \n",
       "1   College       NaN       Divorced         Star  3839.61        Standard   \n",
       "2   College       NaN         Single         Star  3839.75        Standard   \n",
       "3   College       NaN         Single         Star  3839.75        Standard   \n",
       "4  Bachelor  103495.0        Married         Star  3842.79        Standard   \n",
       "\n",
       "   Enrollment Year  Enrollment Month  Cancellation Year  Cancellation Month  \n",
       "0             2016                 2                NaN                 NaN  \n",
       "1             2016                 3                NaN                 NaN  \n",
       "2             2014                 7             2018.0                 1.0  \n",
       "3             2013                 2                NaN                 NaN  \n",
       "4             2014                10                NaN                 NaN  "
      ]
     },
     "metadata": {},
     "output_type": "display_data"
    },
    {
     "name": "stdout",
     "output_type": "stream",
     "text": [
      "-----------------------------------------------------\n",
      "📐 Dimensiones:\n",
      "(16737, 16) \n",
      "\n",
      "-----------------------------------------------------\n",
      "🧠 Información general:\n",
      "<class 'pandas.core.frame.DataFrame'>\n",
      "RangeIndex: 16737 entries, 0 to 16736\n",
      "Data columns (total 16 columns):\n",
      " #   Column              Non-Null Count  Dtype  \n",
      "---  ------              --------------  -----  \n",
      " 0   Loyalty Number      16737 non-null  int64  \n",
      " 1   Country             16737 non-null  object \n",
      " 2   Province            16737 non-null  object \n",
      " 3   City                16737 non-null  object \n",
      " 4   Postal Code         16737 non-null  object \n",
      " 5   Gender              16737 non-null  object \n",
      " 6   Education           16737 non-null  object \n",
      " 7   Salary              12499 non-null  float64\n",
      " 8   Marital Status      16737 non-null  object \n",
      " 9   Loyalty Card        16737 non-null  object \n",
      " 10  CLV                 16737 non-null  float64\n",
      " 11  Enrollment Type     16737 non-null  object \n",
      " 12  Enrollment Year     16737 non-null  int64  \n",
      " 13  Enrollment Month    16737 non-null  int64  \n",
      " 14  Cancellation Year   2067 non-null   float64\n",
      " 15  Cancellation Month  2067 non-null   float64\n",
      "dtypes: float64(4), int64(3), object(9)\n",
      "memory usage: 2.0+ MB\n"
     ]
    },
    {
     "data": {
      "text/plain": [
       "None"
      ]
     },
     "metadata": {},
     "output_type": "display_data"
    },
    {
     "name": "stdout",
     "output_type": "stream",
     "text": [
      "-----------------------------------------------------\n",
      "📊 Tipos de datos por columna:\n",
      "Loyalty Number          int64\n",
      "Country                object\n",
      "Province               object\n",
      "City                   object\n",
      "Postal Code            object\n",
      "Gender                 object\n",
      "Education              object\n",
      "Salary                float64\n",
      "Marital Status         object\n",
      "Loyalty Card           object\n",
      "CLV                   float64\n",
      "Enrollment Type        object\n",
      "Enrollment Year         int64\n",
      "Enrollment Month        int64\n",
      "Cancellation Year     float64\n",
      "Cancellation Month    float64\n",
      "dtype: object \n",
      "\n",
      "-----------------------------------------------------\n",
      "📉 Descripción de columnas numéricas:\n"
     ]
    },
    {
     "data": {
      "text/html": [
       "<div>\n",
       "<style scoped>\n",
       "    .dataframe tbody tr th:only-of-type {\n",
       "        vertical-align: middle;\n",
       "    }\n",
       "\n",
       "    .dataframe tbody tr th {\n",
       "        vertical-align: top;\n",
       "    }\n",
       "\n",
       "    .dataframe thead th {\n",
       "        text-align: right;\n",
       "    }\n",
       "</style>\n",
       "<table border=\"1\" class=\"dataframe\">\n",
       "  <thead>\n",
       "    <tr style=\"text-align: right;\">\n",
       "      <th></th>\n",
       "      <th>Loyalty Number</th>\n",
       "      <th>Salary</th>\n",
       "      <th>CLV</th>\n",
       "      <th>Enrollment Year</th>\n",
       "      <th>Enrollment Month</th>\n",
       "      <th>Cancellation Year</th>\n",
       "      <th>Cancellation Month</th>\n",
       "    </tr>\n",
       "  </thead>\n",
       "  <tbody>\n",
       "    <tr>\n",
       "      <th>count</th>\n",
       "      <td>16737.000000</td>\n",
       "      <td>12499.000000</td>\n",
       "      <td>16737.000000</td>\n",
       "      <td>16737.000000</td>\n",
       "      <td>16737.000000</td>\n",
       "      <td>2067.000000</td>\n",
       "      <td>2067.000000</td>\n",
       "    </tr>\n",
       "    <tr>\n",
       "      <th>mean</th>\n",
       "      <td>549735.880445</td>\n",
       "      <td>79245.609409</td>\n",
       "      <td>7988.896536</td>\n",
       "      <td>2015.253211</td>\n",
       "      <td>6.669116</td>\n",
       "      <td>2016.503145</td>\n",
       "      <td>6.962748</td>\n",
       "    </tr>\n",
       "    <tr>\n",
       "      <th>std</th>\n",
       "      <td>258912.132453</td>\n",
       "      <td>35008.297285</td>\n",
       "      <td>6860.982280</td>\n",
       "      <td>1.979111</td>\n",
       "      <td>3.398958</td>\n",
       "      <td>1.380743</td>\n",
       "      <td>3.455297</td>\n",
       "    </tr>\n",
       "    <tr>\n",
       "      <th>min</th>\n",
       "      <td>100018.000000</td>\n",
       "      <td>-58486.000000</td>\n",
       "      <td>1898.010000</td>\n",
       "      <td>2012.000000</td>\n",
       "      <td>1.000000</td>\n",
       "      <td>2013.000000</td>\n",
       "      <td>1.000000</td>\n",
       "    </tr>\n",
       "    <tr>\n",
       "      <th>25%</th>\n",
       "      <td>326603.000000</td>\n",
       "      <td>59246.500000</td>\n",
       "      <td>3980.840000</td>\n",
       "      <td>2014.000000</td>\n",
       "      <td>4.000000</td>\n",
       "      <td>2016.000000</td>\n",
       "      <td>4.000000</td>\n",
       "    </tr>\n",
       "    <tr>\n",
       "      <th>50%</th>\n",
       "      <td>550434.000000</td>\n",
       "      <td>73455.000000</td>\n",
       "      <td>5780.180000</td>\n",
       "      <td>2015.000000</td>\n",
       "      <td>7.000000</td>\n",
       "      <td>2017.000000</td>\n",
       "      <td>7.000000</td>\n",
       "    </tr>\n",
       "    <tr>\n",
       "      <th>75%</th>\n",
       "      <td>772019.000000</td>\n",
       "      <td>88517.500000</td>\n",
       "      <td>8940.580000</td>\n",
       "      <td>2017.000000</td>\n",
       "      <td>10.000000</td>\n",
       "      <td>2018.000000</td>\n",
       "      <td>10.000000</td>\n",
       "    </tr>\n",
       "    <tr>\n",
       "      <th>max</th>\n",
       "      <td>999986.000000</td>\n",
       "      <td>407228.000000</td>\n",
       "      <td>83325.380000</td>\n",
       "      <td>2018.000000</td>\n",
       "      <td>12.000000</td>\n",
       "      <td>2018.000000</td>\n",
       "      <td>12.000000</td>\n",
       "    </tr>\n",
       "  </tbody>\n",
       "</table>\n",
       "</div>"
      ],
      "text/plain": [
       "       Loyalty Number         Salary           CLV  Enrollment Year  \\\n",
       "count    16737.000000   12499.000000  16737.000000     16737.000000   \n",
       "mean    549735.880445   79245.609409   7988.896536      2015.253211   \n",
       "std     258912.132453   35008.297285   6860.982280         1.979111   \n",
       "min     100018.000000  -58486.000000   1898.010000      2012.000000   \n",
       "25%     326603.000000   59246.500000   3980.840000      2014.000000   \n",
       "50%     550434.000000   73455.000000   5780.180000      2015.000000   \n",
       "75%     772019.000000   88517.500000   8940.580000      2017.000000   \n",
       "max     999986.000000  407228.000000  83325.380000      2018.000000   \n",
       "\n",
       "       Enrollment Month  Cancellation Year  Cancellation Month  \n",
       "count      16737.000000        2067.000000         2067.000000  \n",
       "mean           6.669116        2016.503145            6.962748  \n",
       "std            3.398958           1.380743            3.455297  \n",
       "min            1.000000        2013.000000            1.000000  \n",
       "25%            4.000000        2016.000000            4.000000  \n",
       "50%            7.000000        2017.000000            7.000000  \n",
       "75%           10.000000        2018.000000           10.000000  \n",
       "max           12.000000        2018.000000           12.000000  "
      ]
     },
     "metadata": {},
     "output_type": "display_data"
    },
    {
     "name": "stdout",
     "output_type": "stream",
     "text": [
      "-----------------------------------------------------\n",
      "🔤 Descripción de columnas categóricas:\n"
     ]
    },
    {
     "data": {
      "text/html": [
       "<div>\n",
       "<style scoped>\n",
       "    .dataframe tbody tr th:only-of-type {\n",
       "        vertical-align: middle;\n",
       "    }\n",
       "\n",
       "    .dataframe tbody tr th {\n",
       "        vertical-align: top;\n",
       "    }\n",
       "\n",
       "    .dataframe thead th {\n",
       "        text-align: right;\n",
       "    }\n",
       "</style>\n",
       "<table border=\"1\" class=\"dataframe\">\n",
       "  <thead>\n",
       "    <tr style=\"text-align: right;\">\n",
       "      <th></th>\n",
       "      <th>Country</th>\n",
       "      <th>Province</th>\n",
       "      <th>City</th>\n",
       "      <th>Postal Code</th>\n",
       "      <th>Gender</th>\n",
       "      <th>Education</th>\n",
       "      <th>Marital Status</th>\n",
       "      <th>Loyalty Card</th>\n",
       "      <th>Enrollment Type</th>\n",
       "    </tr>\n",
       "  </thead>\n",
       "  <tbody>\n",
       "    <tr>\n",
       "      <th>count</th>\n",
       "      <td>16737</td>\n",
       "      <td>16737</td>\n",
       "      <td>16737</td>\n",
       "      <td>16737</td>\n",
       "      <td>16737</td>\n",
       "      <td>16737</td>\n",
       "      <td>16737</td>\n",
       "      <td>16737</td>\n",
       "      <td>16737</td>\n",
       "    </tr>\n",
       "    <tr>\n",
       "      <th>unique</th>\n",
       "      <td>1</td>\n",
       "      <td>11</td>\n",
       "      <td>29</td>\n",
       "      <td>55</td>\n",
       "      <td>2</td>\n",
       "      <td>5</td>\n",
       "      <td>3</td>\n",
       "      <td>3</td>\n",
       "      <td>2</td>\n",
       "    </tr>\n",
       "    <tr>\n",
       "      <th>top</th>\n",
       "      <td>Canada</td>\n",
       "      <td>Ontario</td>\n",
       "      <td>Toronto</td>\n",
       "      <td>V6E 3D9</td>\n",
       "      <td>Female</td>\n",
       "      <td>Bachelor</td>\n",
       "      <td>Married</td>\n",
       "      <td>Star</td>\n",
       "      <td>Standard</td>\n",
       "    </tr>\n",
       "    <tr>\n",
       "      <th>freq</th>\n",
       "      <td>16737</td>\n",
       "      <td>5404</td>\n",
       "      <td>3351</td>\n",
       "      <td>911</td>\n",
       "      <td>8410</td>\n",
       "      <td>10475</td>\n",
       "      <td>9735</td>\n",
       "      <td>7637</td>\n",
       "      <td>15766</td>\n",
       "    </tr>\n",
       "  </tbody>\n",
       "</table>\n",
       "</div>"
      ],
      "text/plain": [
       "       Country Province     City Postal Code  Gender Education Marital Status  \\\n",
       "count    16737    16737    16737       16737   16737     16737          16737   \n",
       "unique       1       11       29          55       2         5              3   \n",
       "top     Canada  Ontario  Toronto     V6E 3D9  Female  Bachelor        Married   \n",
       "freq     16737     5404     3351         911    8410     10475           9735   \n",
       "\n",
       "       Loyalty Card Enrollment Type  \n",
       "count         16737           16737  \n",
       "unique            3               2  \n",
       "top            Star        Standard  \n",
       "freq           7637           15766  "
      ]
     },
     "metadata": {},
     "output_type": "display_data"
    },
    {
     "name": "stdout",
     "output_type": "stream",
     "text": [
      "🚫 Valores nulos por columna:\n"
     ]
    },
    {
     "data": {
      "text/plain": [
       "Loyalty Number            0\n",
       "Country                   0\n",
       "Province                  0\n",
       "City                      0\n",
       "Postal Code               0\n",
       "Gender                    0\n",
       "Education                 0\n",
       "Salary                 4238\n",
       "Marital Status            0\n",
       "Loyalty Card              0\n",
       "CLV                       0\n",
       "Enrollment Type           0\n",
       "Enrollment Year           0\n",
       "Enrollment Month          0\n",
       "Cancellation Year     14670\n",
       "Cancellation Month    14670\n",
       "dtype: int64"
      ]
     },
     "metadata": {},
     "output_type": "display_data"
    },
    {
     "name": "stdout",
     "output_type": "stream",
     "text": [
      "-----------------------------------------------------\n",
      "📎 Filas duplicadas:\n",
      "Duplicadas: 0\n",
      "No hay filas duplicadas.\n",
      "\n",
      "🔢 Valores únicos por columna:\n",
      "Loyalty Number: 16737\n",
      "Country: 1\n",
      "Province: 11\n",
      "City: 29\n",
      "Postal Code: 55\n",
      "Gender: 2\n",
      "Education: 5\n",
      "Salary: 5890\n",
      "Marital Status: 3\n",
      "Loyalty Card: 3\n",
      "CLV: 7984\n",
      "Enrollment Type: 2\n",
      "Enrollment Year: 7\n",
      "Enrollment Month: 12\n",
      "Cancellation Year: 6\n",
      "Cancellation Month: 12\n"
     ]
    }
   ],
   "source": [
    "# EDA completo en una sola función\n",
    "def eda_basico(df):\n",
    "    print(\"🔍 Primeras filas del DataFrame:\")\n",
    "    display(df.head())\n",
    "    print('-----------------------------------------------------')\n",
    "    print(\"📐 Dimensiones:\")\n",
    "    print(df.shape , \"\\n\")\n",
    "    print('-----------------------------------------------------')\n",
    "    print(\"🧠 Información general:\")\n",
    "    display(df.info())\n",
    "    print('-----------------------------------------------------')\n",
    "    print(\"📊 Tipos de datos por columna:\")\n",
    "    print(df.dtypes, \"\\n\")\n",
    "    print('-----------------------------------------------------')\n",
    "    print(\"📉 Descripción de columnas numéricas:\")\n",
    "    display(df.describe())\n",
    "    print('-----------------------------------------------------')\n",
    "    print(\"🔤 Descripción de columnas categóricas:\")\n",
    "    if len(df.select_dtypes(include=['O']).columns) > 0:\n",
    "        display(df.describe(include=['O']))\n",
    "    else:\n",
    "        print(\"No hay columnas categóricas (object) en este DataFrame.\")\n",
    "    print(\"🚫 Valores nulos por columna:\")\n",
    "    display(df.isnull().sum())\n",
    "    print('-----------------------------------------------------')\n",
    "    print(\"📎 Filas duplicadas:\")\n",
    "    dup_count = df.duplicated().sum()\n",
    "    print(f\"Duplicadas: {dup_count}\")\n",
    "    if dup_count > 0:\n",
    "        print(\"Ejemplo de duplicados:\")\n",
    "        print(df[df.duplicated()].head(), \"\\n\")\n",
    "    else:\n",
    "        print(\"No hay filas duplicadas.\\n\")\n",
    "    print(\"🔢 Valores únicos por columna:\")\n",
    "    for col in df.columns:\n",
    "        print(f\"{col}: {df[col].nunique()}\") \n",
    "eda_basico(df_loyalty)"
   ]
  },
  {
   "cell_type": "code",
   "execution_count": 112,
   "id": "a8237d0a",
   "metadata": {},
   "outputs": [
    {
     "name": "stdout",
     "output_type": "stream",
     "text": [
      "🔍 Primeras filas del DataFrame:\n"
     ]
    },
    {
     "data": {
      "text/html": [
       "<div>\n",
       "<style scoped>\n",
       "    .dataframe tbody tr th:only-of-type {\n",
       "        vertical-align: middle;\n",
       "    }\n",
       "\n",
       "    .dataframe tbody tr th {\n",
       "        vertical-align: top;\n",
       "    }\n",
       "\n",
       "    .dataframe thead th {\n",
       "        text-align: right;\n",
       "    }\n",
       "</style>\n",
       "<table border=\"1\" class=\"dataframe\">\n",
       "  <thead>\n",
       "    <tr style=\"text-align: right;\">\n",
       "      <th></th>\n",
       "      <th>Loyalty Number</th>\n",
       "      <th>Year</th>\n",
       "      <th>Month</th>\n",
       "      <th>Flights Booked</th>\n",
       "      <th>Flights with Companions</th>\n",
       "      <th>Total Flights</th>\n",
       "      <th>Distance</th>\n",
       "      <th>Points Accumulated</th>\n",
       "      <th>Points Redeemed</th>\n",
       "      <th>Dollar Cost Points Redeemed</th>\n",
       "    </tr>\n",
       "  </thead>\n",
       "  <tbody>\n",
       "    <tr>\n",
       "      <th>0</th>\n",
       "      <td>100018</td>\n",
       "      <td>2017</td>\n",
       "      <td>1</td>\n",
       "      <td>3</td>\n",
       "      <td>0</td>\n",
       "      <td>3</td>\n",
       "      <td>1521</td>\n",
       "      <td>152.0</td>\n",
       "      <td>0</td>\n",
       "      <td>0</td>\n",
       "    </tr>\n",
       "    <tr>\n",
       "      <th>1</th>\n",
       "      <td>100102</td>\n",
       "      <td>2017</td>\n",
       "      <td>1</td>\n",
       "      <td>10</td>\n",
       "      <td>4</td>\n",
       "      <td>14</td>\n",
       "      <td>2030</td>\n",
       "      <td>203.0</td>\n",
       "      <td>0</td>\n",
       "      <td>0</td>\n",
       "    </tr>\n",
       "    <tr>\n",
       "      <th>2</th>\n",
       "      <td>100140</td>\n",
       "      <td>2017</td>\n",
       "      <td>1</td>\n",
       "      <td>6</td>\n",
       "      <td>0</td>\n",
       "      <td>6</td>\n",
       "      <td>1200</td>\n",
       "      <td>120.0</td>\n",
       "      <td>0</td>\n",
       "      <td>0</td>\n",
       "    </tr>\n",
       "    <tr>\n",
       "      <th>3</th>\n",
       "      <td>100214</td>\n",
       "      <td>2017</td>\n",
       "      <td>1</td>\n",
       "      <td>0</td>\n",
       "      <td>0</td>\n",
       "      <td>0</td>\n",
       "      <td>0</td>\n",
       "      <td>0.0</td>\n",
       "      <td>0</td>\n",
       "      <td>0</td>\n",
       "    </tr>\n",
       "    <tr>\n",
       "      <th>4</th>\n",
       "      <td>100272</td>\n",
       "      <td>2017</td>\n",
       "      <td>1</td>\n",
       "      <td>0</td>\n",
       "      <td>0</td>\n",
       "      <td>0</td>\n",
       "      <td>0</td>\n",
       "      <td>0.0</td>\n",
       "      <td>0</td>\n",
       "      <td>0</td>\n",
       "    </tr>\n",
       "  </tbody>\n",
       "</table>\n",
       "</div>"
      ],
      "text/plain": [
       "   Loyalty Number  Year  Month  Flights Booked  Flights with Companions  \\\n",
       "0          100018  2017      1               3                        0   \n",
       "1          100102  2017      1              10                        4   \n",
       "2          100140  2017      1               6                        0   \n",
       "3          100214  2017      1               0                        0   \n",
       "4          100272  2017      1               0                        0   \n",
       "\n",
       "   Total Flights  Distance  Points Accumulated  Points Redeemed  \\\n",
       "0              3      1521               152.0                0   \n",
       "1             14      2030               203.0                0   \n",
       "2              6      1200               120.0                0   \n",
       "3              0         0                 0.0                0   \n",
       "4              0         0                 0.0                0   \n",
       "\n",
       "   Dollar Cost Points Redeemed  \n",
       "0                            0  \n",
       "1                            0  \n",
       "2                            0  \n",
       "3                            0  \n",
       "4                            0  "
      ]
     },
     "metadata": {},
     "output_type": "display_data"
    },
    {
     "name": "stdout",
     "output_type": "stream",
     "text": [
      "-----------------------------------------------------\n",
      "📐 Dimensiones:\n",
      "(405624, 10) \n",
      "\n",
      "-----------------------------------------------------\n",
      "🧠 Información general:\n",
      "<class 'pandas.core.frame.DataFrame'>\n",
      "RangeIndex: 405624 entries, 0 to 405623\n",
      "Data columns (total 10 columns):\n",
      " #   Column                       Non-Null Count   Dtype  \n",
      "---  ------                       --------------   -----  \n",
      " 0   Loyalty Number               405624 non-null  int64  \n",
      " 1   Year                         405624 non-null  int64  \n",
      " 2   Month                        405624 non-null  int64  \n",
      " 3   Flights Booked               405624 non-null  int64  \n",
      " 4   Flights with Companions      405624 non-null  int64  \n",
      " 5   Total Flights                405624 non-null  int64  \n",
      " 6   Distance                     405624 non-null  int64  \n",
      " 7   Points Accumulated           405624 non-null  float64\n",
      " 8   Points Redeemed              405624 non-null  int64  \n",
      " 9   Dollar Cost Points Redeemed  405624 non-null  int64  \n",
      "dtypes: float64(1), int64(9)\n",
      "memory usage: 30.9 MB\n"
     ]
    },
    {
     "data": {
      "text/plain": [
       "None"
      ]
     },
     "metadata": {},
     "output_type": "display_data"
    },
    {
     "name": "stdout",
     "output_type": "stream",
     "text": [
      "-----------------------------------------------------\n",
      "📊 Tipos de datos por columna:\n",
      "Loyalty Number                   int64\n",
      "Year                             int64\n",
      "Month                            int64\n",
      "Flights Booked                   int64\n",
      "Flights with Companions          int64\n",
      "Total Flights                    int64\n",
      "Distance                         int64\n",
      "Points Accumulated             float64\n",
      "Points Redeemed                  int64\n",
      "Dollar Cost Points Redeemed      int64\n",
      "dtype: object \n",
      "\n",
      "-----------------------------------------------------\n",
      "📉 Descripción de columnas numéricas:\n"
     ]
    },
    {
     "data": {
      "text/html": [
       "<div>\n",
       "<style scoped>\n",
       "    .dataframe tbody tr th:only-of-type {\n",
       "        vertical-align: middle;\n",
       "    }\n",
       "\n",
       "    .dataframe tbody tr th {\n",
       "        vertical-align: top;\n",
       "    }\n",
       "\n",
       "    .dataframe thead th {\n",
       "        text-align: right;\n",
       "    }\n",
       "</style>\n",
       "<table border=\"1\" class=\"dataframe\">\n",
       "  <thead>\n",
       "    <tr style=\"text-align: right;\">\n",
       "      <th></th>\n",
       "      <th>Loyalty Number</th>\n",
       "      <th>Year</th>\n",
       "      <th>Month</th>\n",
       "      <th>Flights Booked</th>\n",
       "      <th>Flights with Companions</th>\n",
       "      <th>Total Flights</th>\n",
       "      <th>Distance</th>\n",
       "      <th>Points Accumulated</th>\n",
       "      <th>Points Redeemed</th>\n",
       "      <th>Dollar Cost Points Redeemed</th>\n",
       "    </tr>\n",
       "  </thead>\n",
       "  <tbody>\n",
       "    <tr>\n",
       "      <th>count</th>\n",
       "      <td>405624.000000</td>\n",
       "      <td>405624.000000</td>\n",
       "      <td>405624.000000</td>\n",
       "      <td>405624.000000</td>\n",
       "      <td>405624.000000</td>\n",
       "      <td>405624.000000</td>\n",
       "      <td>405624.000000</td>\n",
       "      <td>405624.000000</td>\n",
       "      <td>405624.000000</td>\n",
       "      <td>405624.000000</td>\n",
       "    </tr>\n",
       "    <tr>\n",
       "      <th>mean</th>\n",
       "      <td>550037.873084</td>\n",
       "      <td>2017.500000</td>\n",
       "      <td>6.500000</td>\n",
       "      <td>4.115052</td>\n",
       "      <td>1.031805</td>\n",
       "      <td>5.146858</td>\n",
       "      <td>1208.880059</td>\n",
       "      <td>123.692721</td>\n",
       "      <td>30.696872</td>\n",
       "      <td>2.484503</td>\n",
       "    </tr>\n",
       "    <tr>\n",
       "      <th>std</th>\n",
       "      <td>258935.286969</td>\n",
       "      <td>0.500001</td>\n",
       "      <td>3.452057</td>\n",
       "      <td>5.225518</td>\n",
       "      <td>2.076869</td>\n",
       "      <td>6.521227</td>\n",
       "      <td>1433.155320</td>\n",
       "      <td>146.599831</td>\n",
       "      <td>125.486049</td>\n",
       "      <td>10.150038</td>\n",
       "    </tr>\n",
       "    <tr>\n",
       "      <th>min</th>\n",
       "      <td>100018.000000</td>\n",
       "      <td>2017.000000</td>\n",
       "      <td>1.000000</td>\n",
       "      <td>0.000000</td>\n",
       "      <td>0.000000</td>\n",
       "      <td>0.000000</td>\n",
       "      <td>0.000000</td>\n",
       "      <td>0.000000</td>\n",
       "      <td>0.000000</td>\n",
       "      <td>0.000000</td>\n",
       "    </tr>\n",
       "    <tr>\n",
       "      <th>25%</th>\n",
       "      <td>326961.000000</td>\n",
       "      <td>2017.000000</td>\n",
       "      <td>3.750000</td>\n",
       "      <td>0.000000</td>\n",
       "      <td>0.000000</td>\n",
       "      <td>0.000000</td>\n",
       "      <td>0.000000</td>\n",
       "      <td>0.000000</td>\n",
       "      <td>0.000000</td>\n",
       "      <td>0.000000</td>\n",
       "    </tr>\n",
       "    <tr>\n",
       "      <th>50%</th>\n",
       "      <td>550834.000000</td>\n",
       "      <td>2017.500000</td>\n",
       "      <td>6.500000</td>\n",
       "      <td>1.000000</td>\n",
       "      <td>0.000000</td>\n",
       "      <td>1.000000</td>\n",
       "      <td>488.000000</td>\n",
       "      <td>50.000000</td>\n",
       "      <td>0.000000</td>\n",
       "      <td>0.000000</td>\n",
       "    </tr>\n",
       "    <tr>\n",
       "      <th>75%</th>\n",
       "      <td>772194.000000</td>\n",
       "      <td>2018.000000</td>\n",
       "      <td>9.250000</td>\n",
       "      <td>8.000000</td>\n",
       "      <td>1.000000</td>\n",
       "      <td>10.000000</td>\n",
       "      <td>2336.000000</td>\n",
       "      <td>239.000000</td>\n",
       "      <td>0.000000</td>\n",
       "      <td>0.000000</td>\n",
       "    </tr>\n",
       "    <tr>\n",
       "      <th>max</th>\n",
       "      <td>999986.000000</td>\n",
       "      <td>2018.000000</td>\n",
       "      <td>12.000000</td>\n",
       "      <td>21.000000</td>\n",
       "      <td>11.000000</td>\n",
       "      <td>32.000000</td>\n",
       "      <td>6293.000000</td>\n",
       "      <td>676.500000</td>\n",
       "      <td>876.000000</td>\n",
       "      <td>71.000000</td>\n",
       "    </tr>\n",
       "  </tbody>\n",
       "</table>\n",
       "</div>"
      ],
      "text/plain": [
       "       Loyalty Number           Year          Month  Flights Booked  \\\n",
       "count   405624.000000  405624.000000  405624.000000   405624.000000   \n",
       "mean    550037.873084    2017.500000       6.500000        4.115052   \n",
       "std     258935.286969       0.500001       3.452057        5.225518   \n",
       "min     100018.000000    2017.000000       1.000000        0.000000   \n",
       "25%     326961.000000    2017.000000       3.750000        0.000000   \n",
       "50%     550834.000000    2017.500000       6.500000        1.000000   \n",
       "75%     772194.000000    2018.000000       9.250000        8.000000   \n",
       "max     999986.000000    2018.000000      12.000000       21.000000   \n",
       "\n",
       "       Flights with Companions  Total Flights       Distance  \\\n",
       "count            405624.000000  405624.000000  405624.000000   \n",
       "mean                  1.031805       5.146858    1208.880059   \n",
       "std                   2.076869       6.521227    1433.155320   \n",
       "min                   0.000000       0.000000       0.000000   \n",
       "25%                   0.000000       0.000000       0.000000   \n",
       "50%                   0.000000       1.000000     488.000000   \n",
       "75%                   1.000000      10.000000    2336.000000   \n",
       "max                  11.000000      32.000000    6293.000000   \n",
       "\n",
       "       Points Accumulated  Points Redeemed  Dollar Cost Points Redeemed  \n",
       "count       405624.000000    405624.000000                405624.000000  \n",
       "mean           123.692721        30.696872                     2.484503  \n",
       "std            146.599831       125.486049                    10.150038  \n",
       "min              0.000000         0.000000                     0.000000  \n",
       "25%              0.000000         0.000000                     0.000000  \n",
       "50%             50.000000         0.000000                     0.000000  \n",
       "75%            239.000000         0.000000                     0.000000  \n",
       "max            676.500000       876.000000                    71.000000  "
      ]
     },
     "metadata": {},
     "output_type": "display_data"
    },
    {
     "name": "stdout",
     "output_type": "stream",
     "text": [
      "-----------------------------------------------------\n",
      "🔤 Descripción de columnas categóricas:\n",
      "No hay columnas categóricas (object) en este DataFrame.\n",
      "🚫 Valores nulos por columna:\n"
     ]
    },
    {
     "data": {
      "text/plain": [
       "Loyalty Number                 0\n",
       "Year                           0\n",
       "Month                          0\n",
       "Flights Booked                 0\n",
       "Flights with Companions        0\n",
       "Total Flights                  0\n",
       "Distance                       0\n",
       "Points Accumulated             0\n",
       "Points Redeemed                0\n",
       "Dollar Cost Points Redeemed    0\n",
       "dtype: int64"
      ]
     },
     "metadata": {},
     "output_type": "display_data"
    },
    {
     "name": "stdout",
     "output_type": "stream",
     "text": [
      "-----------------------------------------------------\n",
      "📎 Filas duplicadas:\n",
      "Duplicadas: 1864\n",
      "Ejemplo de duplicados:\n",
      "     Loyalty Number  Year  Month  Flights Booked  Flights with Companions  \\\n",
      "42           101902  2017      1               0                        0   \n",
      "227          112142  2017      1               0                        0   \n",
      "478          126100  2017      1               0                        0   \n",
      "567          130331  2017      1               0                        0   \n",
      "660          135421  2017      1               0                        0   \n",
      "\n",
      "     Total Flights  Distance  Points Accumulated  Points Redeemed  \\\n",
      "42               0         0                 0.0                0   \n",
      "227              0         0                 0.0                0   \n",
      "478              0         0                 0.0                0   \n",
      "567              0         0                 0.0                0   \n",
      "660              0         0                 0.0                0   \n",
      "\n",
      "     Dollar Cost Points Redeemed  \n",
      "42                             0  \n",
      "227                            0  \n",
      "478                            0  \n",
      "567                            0  \n",
      "660                            0   \n",
      "\n",
      "🔢 Valores únicos por columna:\n",
      "Loyalty Number: 16737\n",
      "Year: 2\n",
      "Month: 12\n",
      "Flights Booked: 22\n",
      "Flights with Companions: 12\n",
      "Total Flights: 33\n",
      "Distance: 4746\n",
      "Points Accumulated: 1549\n",
      "Points Redeemed: 587\n",
      "Dollar Cost Points Redeemed: 49\n"
     ]
    }
   ],
   "source": [
    "eda_basico(df_activity)"
   ]
  },
  {
   "cell_type": "markdown",
   "id": "e043fb0f",
   "metadata": {},
   "source": [
    "## Limpieza de Datos"
   ]
  },
  {
   "cell_type": "code",
   "execution_count": 67,
   "id": "6245cc1b",
   "metadata": {},
   "outputs": [
    {
     "name": "stdout",
     "output_type": "stream",
     "text": [
      "1864\n"
     ]
    }
   ],
   "source": [
    "#comprobamos si hay filas duplicadas\n",
    "print(df.duplicated().sum()) "
   ]
  },
  {
   "cell_type": "code",
   "execution_count": 101,
   "id": "86d6c20b",
   "metadata": {},
   "outputs": [
    {
     "name": "stdout",
     "output_type": "stream",
     "text": [
      "Nombre columna: Loyalty Number\n",
      "----------------------------------------\n",
      "Valores únicos: [100018 100102 100140 ... 999731 999788 999891]\n",
      "Nombre columna: Year\n",
      "----------------------------------------\n",
      "Valores únicos: [2017 2018]\n",
      "Nombre columna: Month\n",
      "----------------------------------------\n",
      "Valores únicos: [ 1  9  2  3 11  4  5  7  6  8 10 12]\n",
      "Nombre columna: Flights Booked\n",
      "----------------------------------------\n",
      "Valores únicos: [ 3 10  6  0  8 11  9  4  7  5  2  1 12 13 14 16 15 17 18 19 20 21]\n",
      "Nombre columna: Flights with Companions\n",
      "----------------------------------------\n",
      "Valores únicos: [ 0  4  7  1  6  3  5  2 10  8  9 11]\n",
      "Nombre columna: Total Flights\n",
      "----------------------------------------\n",
      "Valores únicos: [ 3 14  6  0 15 11 12 10  8  9  7  5 16  2  1 17 13 22  4 19 18 21 26 20\n",
      " 23 25 27 24 28 30 29 31 32]\n",
      "Nombre columna: Distance\n",
      "----------------------------------------\n",
      "Valores únicos: [1521 2030 1200 ... 1217  617 4135]\n",
      "Nombre columna: Points Accumulated\n",
      "----------------------------------------\n",
      "Valores únicos: [152.   203.   120.   ...  18.75 601.   626.  ]\n",
      "Nombre columna: Points Redeemed\n",
      "----------------------------------------\n",
      "Valores únicos: [  0 341 364 310 445 312 343 366 389 292 447 324 456 409 436 327 322 291\n",
      " 323 300 290 309 325 386 321 363 340 670 443 517 444 328 344 367 313 333\n",
      " 293 449 297 455 372 356 405 381 466 419 369 352 482 335 329 305 415 396\n",
      " 317 348 314 334 350 330 318 298 420 336 471 680 441 353 484 301 374 417\n",
      " 501 299 398 307 368 306 347 439 395 481 337 382 426 373 399 424 326 392\n",
      " 438 467 480 448 308 400 376 375 460 339 385 611 431 320 362 404 442 410\n",
      " 361 319 435 414 464 477 315 485 370 421 349 371 416 496 510 667 465 434\n",
      " 346 487 408 500 360 378 345 358 479 380 411 491 505 446 425 476 393 418\n",
      " 332 401 454 303 594 506 355 302 403 379 437 561 483 597 391 562 342 407\n",
      " 490 468 488 457 365 357 463 388 413 351 462 440 493 507 338 377 428 525\n",
      " 390 473 359 423 519 453 522 429 450 383 469 402 354 422 458 384 656 461\n",
      " 427 478 523 719 538 515 394 472 433 387 540 530 498 512 452 311 470 541\n",
      " 331 570 527 658 494 638 486 509 316 492 536 502 551 504 304 296 294 495\n",
      " 432 526 459 589 529 586 537 503 552 779 516 639 474 547 542 557 406 563\n",
      " 511 518 532 553 508 560 676 716 593 513 499 566 497 546 451 533 489 708\n",
      " 531 567 521 412 430 610 528 556 582 720 397 578 772 571 534 539 576 585\n",
      " 520 601 598 630 524 588 550 514 573 544 669 577 580 591 614 574 579 595\n",
      " 618 776 548 602 543 581 572 607 603 564 620 615 636 575 584 559 648 590\n",
      " 545 627 608 568 625 637 632 650 600 613 621 535 587 475 592 624 619 554\n",
      " 583 628 558 664 789 635 617 699 604 646 659 616 704 569 626 609 751 599\n",
      " 644 800 677 666 596 612 629 657 675 702 683 633 811 688 565 706 605 549\n",
      " 662 660 295 673 555 631 715 651 697 792 678 655 707 668 687 622 642 781\n",
      " 695 711 701 721 623 693 692 640 665 684 745 808 746 749 694 643 725 850\n",
      " 703 726 691 740 737 689 765 649 690 661 696 682 700 750 771 798 710 736\n",
      " 757 743 654 758 647 606 718 739 814 761 783 679 766 777 799 723 653 730\n",
      " 681 760 793 742 685 734 839 782 735 756 795 728 780 802 815 851 820 770\n",
      " 705 738 645 686 755 754 778 671 634 762 784 717 797 744 672 768 790 741\n",
      " 824 748 674 825 794 845 827 801 714 731 724 876 747 663 709 823 791 804\n",
      " 832 698 727 833 810 864 753 840 722 641 822 834 844 865 869 733 828 773\n",
      " 713 821 849 767 759 729 803 838 775 818 843 830 847 872 809 786 812 785\n",
      " 841 752 712 816 289 652 787 852 848 769 846 870 871 796 807 774 805 763\n",
      " 806 836 837 857 813 873 732 826 858 817 829 819 866 842 861 855 831 875\n",
      " 868 835 764 862 874 860 863 854 788 867 859]\n",
      "Nombre columna: Dollar Cost Points Redeemed\n",
      "----------------------------------------\n",
      "Valores únicos: [ 0 28 30 25 36 32 24 26 37 33 35 27 31 54 42 29 38 34 39 55 41 49 40 48\n",
      " 45 53 58 44 43 46 52 47 63 57 62 51 50 64 56 61 65 60 68 59 66 69 67 71\n",
      " 70]\n",
      "Nombre columna: Country\n",
      "----------------------------------------\n",
      "Valores únicos: ['Canada']\n",
      "Nombre columna: Province\n",
      "----------------------------------------\n",
      "Valores únicos: ['Alberta' 'Ontario' 'British Columbia' 'Saskatchewan' 'Quebec'\n",
      " 'Newfoundland' 'Manitoba' 'New Brunswick' 'Nova Scotia'\n",
      " 'Prince Edward Island' 'Yukon']\n",
      "Nombre columna: City\n",
      "----------------------------------------\n",
      "Valores únicos: ['Edmonton' 'Toronto' 'Dawson Creek' 'Vancouver' 'Regina' 'Montreal'\n",
      " 'Sudbury' 'Quebec City' 'Peace River' \"St. John's\" 'Tremblant' 'Ottawa'\n",
      " 'Trenton' 'Winnipeg' 'Thunder Bay' 'West Vancouver' 'Fredericton'\n",
      " 'London' 'Halifax' 'Moncton' 'Banff' 'Kingston' 'Whistler'\n",
      " 'Charlottetown' 'Hull' 'Victoria' 'Calgary' 'Kelowna' 'Whitehorse']\n",
      "Nombre columna: Postal Code\n",
      "----------------------------------------\n",
      "Valores únicos: ['T9G 1W3' 'M1R 4K3' 'U5I 4F1' 'V5R 1W3' 'P1L 8X8' 'P1J 8T7' 'S6J 3G0'\n",
      " 'H2T 9K8' 'V6E 3D9' 'M5V 1G5' 'H2Y 4R4' 'M8Y 4K8' 'V6E 3Z3' 'G1B 3L5'\n",
      " 'T9O 2W2' 'A1C 6H9' 'H5Y 2S9' 'K1F 2R2' 'K8V 4B2' 'R3R 3T4' 'P1W 1K4'\n",
      " 'K8T 5M5' 'V6V 8Z3' 'M2M 7K8' 'E3B 2H2' 'M5B 3E4' 'H2Y 2W2' 'P5S 6R4'\n",
      " 'P2T 6G3' 'B3J 9S2' 'B3C 2M8' 'H4G 3T4' 'R6Y 4T5' 'H2T 2J6' 'M2Z 4K1'\n",
      " 'S1J 3C5' 'E1A 2A7' 'V1E 4R6' 'T4V 1D4' 'M9K 2P4' 'R2C 0M5' 'T3G 6Y6'\n",
      " 'M2M 6J7' 'V6T 1Y8' 'C1A 6E8' 'J8Y 3Z5' 'V10 6T5' 'H3T 8L4' 'T3E 2V9'\n",
      " 'V09 2E9' 'Y2K 6R0' 'K1G 4Z0' 'M2P 4F6' 'M3R 4K8' 'H3J 5I6']\n",
      "Nombre columna: Gender\n",
      "----------------------------------------\n",
      "Valores únicos: ['Female' 'Male']\n",
      "Nombre columna: Education\n",
      "----------------------------------------\n",
      "Valores únicos: ['Bachelor' 'College' 'Master' 'High School or Below' 'Doctor']\n",
      "Nombre columna: Salary\n",
      "----------------------------------------\n",
      "Valores únicos: [92552. 73479. 63253. ... 23160. 97206. 56345.]\n",
      "Nombre columna: Marital Status\n",
      "----------------------------------------\n",
      "Valores únicos: ['Married' 'Single' 'Divorced']\n",
      "Nombre columna: Loyalty Card\n",
      "----------------------------------------\n",
      "Valores únicos: ['Aurora' 'Nova' 'Star']\n",
      "Nombre columna: CLV\n",
      "----------------------------------------\n",
      "Valores únicos: [7919.2  2887.74 2838.07 ... 6990.69 3151.16 8409.07]\n",
      "Nombre columna: Enrollment Type\n",
      "----------------------------------------\n",
      "Valores únicos: ['Standard' '2018 Promotion']\n",
      "Nombre columna: Enrollment Year\n",
      "----------------------------------------\n",
      "Valores únicos: [2016 2013 2015 2014 2012 2017 2018]\n",
      "Nombre columna: Enrollment Month\n",
      "----------------------------------------\n",
      "Valores únicos: [ 8  3  7  1  9  5 10  2  4  6 11 12]\n",
      "Nombre columna: Cancellation Year\n",
      "----------------------------------------\n",
      "Valores únicos: [2016 2018 2015 2014 2013 2017]\n",
      "Nombre columna: Cancellation Month\n",
      "----------------------------------------\n",
      "Valores únicos: [ 6  3  9  2  7  8  4  1  5 11 12 10]\n"
     ]
    }
   ],
   "source": [
    "# Para ver los valores únicos \n",
    "for col in df:\n",
    "    print(f'Nombre columna: {col}')\n",
    "    print('----------------------------------------')\n",
    "    print(f'Valores únicos: {df[col].unique()}')"
   ]
  },
  {
   "cell_type": "code",
   "execution_count": 102,
   "id": "9ffa21fe",
   "metadata": {},
   "outputs": [
    {
     "name": "stdout",
     "output_type": "stream",
     "text": [
      "Nombre columna: Loyalty Number\n",
      "----------------------------------------\n",
      "Valores únicos: 16737\n",
      "Nombre columna: Year\n",
      "----------------------------------------\n",
      "Valores únicos: 2\n",
      "Nombre columna: Month\n",
      "----------------------------------------\n",
      "Valores únicos: 12\n",
      "Nombre columna: Flights Booked\n",
      "----------------------------------------\n",
      "Valores únicos: 22\n",
      "Nombre columna: Flights with Companions\n",
      "----------------------------------------\n",
      "Valores únicos: 12\n",
      "Nombre columna: Total Flights\n",
      "----------------------------------------\n",
      "Valores únicos: 33\n",
      "Nombre columna: Distance\n",
      "----------------------------------------\n",
      "Valores únicos: 4746\n",
      "Nombre columna: Points Accumulated\n",
      "----------------------------------------\n",
      "Valores únicos: 1549\n",
      "Nombre columna: Points Redeemed\n",
      "----------------------------------------\n",
      "Valores únicos: 587\n",
      "Nombre columna: Dollar Cost Points Redeemed\n",
      "----------------------------------------\n",
      "Valores únicos: 49\n",
      "Nombre columna: Country\n",
      "----------------------------------------\n",
      "Valores únicos: 1\n",
      "Nombre columna: Province\n",
      "----------------------------------------\n",
      "Valores únicos: 11\n",
      "Nombre columna: City\n",
      "----------------------------------------\n",
      "Valores únicos: 29\n",
      "Nombre columna: Postal Code\n",
      "----------------------------------------\n",
      "Valores únicos: 55\n",
      "Nombre columna: Gender\n",
      "----------------------------------------\n",
      "Valores únicos: 2\n",
      "Nombre columna: Education\n",
      "----------------------------------------\n",
      "Valores únicos: 5\n",
      "Nombre columna: Salary\n",
      "----------------------------------------\n",
      "Valores únicos: 5890\n",
      "Nombre columna: Marital Status\n",
      "----------------------------------------\n",
      "Valores únicos: 3\n",
      "Nombre columna: Loyalty Card\n",
      "----------------------------------------\n",
      "Valores únicos: 3\n",
      "Nombre columna: CLV\n",
      "----------------------------------------\n",
      "Valores únicos: 7984\n",
      "Nombre columna: Enrollment Type\n",
      "----------------------------------------\n",
      "Valores únicos: 2\n",
      "Nombre columna: Enrollment Year\n",
      "----------------------------------------\n",
      "Valores únicos: 7\n",
      "Nombre columna: Enrollment Month\n",
      "----------------------------------------\n",
      "Valores únicos: 12\n",
      "Nombre columna: Cancellation Year\n",
      "----------------------------------------\n",
      "Valores únicos: 6\n",
      "Nombre columna: Cancellation Month\n",
      "----------------------------------------\n",
      "Valores únicos: 12\n"
     ]
    }
   ],
   "source": [
    "# Para contar la cantidad total de valores únicos diferentes \n",
    "for col in df:\n",
    "    print(f'Nombre columna: {col}')\n",
    "    print('----------------------------------------')\n",
    "    print(f'Valores únicos: {df[col].nunique()}')"
   ]
  },
  {
   "cell_type": "code",
   "execution_count": 68,
   "id": "470ad12c",
   "metadata": {},
   "outputs": [
    {
     "name": "stdout",
     "output_type": "stream",
     "text": [
      "Loyalty Number                      0\n",
      "Year                                0\n",
      "Month                               0\n",
      "Flights Booked                      0\n",
      "Flights with Companions             0\n",
      "Total Flights                       0\n",
      "Distance                            0\n",
      "Points Accumulated                  0\n",
      "Points Redeemed                     0\n",
      "Dollar Cost Points Redeemed         0\n",
      "Country                             0\n",
      "Province                            0\n",
      "City                                0\n",
      "Postal Code                         0\n",
      "Gender                              0\n",
      "Education                           0\n",
      "Salary                         102672\n",
      "Marital Status                      0\n",
      "Loyalty Card                        0\n",
      "CLV                                 0\n",
      "Enrollment Type                     0\n",
      "Enrollment Year                     0\n",
      "Enrollment Month                    0\n",
      "Cancellation Year              355560\n",
      "Cancellation Month             355560\n",
      "dtype: int64\n"
     ]
    }
   ],
   "source": [
    "#verificamos si hay nulos en las filas de las columnas\n",
    "print(df.isnull().sum()) "
   ]
  },
  {
   "cell_type": "code",
   "execution_count": 69,
   "id": "d64a6a9e",
   "metadata": {},
   "outputs": [
    {
     "name": "stdout",
     "output_type": "stream",
     "text": [
      "Loyalty Number                  0.00\n",
      "Year                            0.00\n",
      "Month                           0.00\n",
      "Flights Booked                  0.00\n",
      "Flights with Companions         0.00\n",
      "Total Flights                   0.00\n",
      "Distance                        0.00\n",
      "Points Accumulated              0.00\n",
      "Points Redeemed                 0.00\n",
      "Dollar Cost Points Redeemed     0.00\n",
      "Country                         0.00\n",
      "Province                        0.00\n",
      "City                            0.00\n",
      "Postal Code                     0.00\n",
      "Gender                          0.00\n",
      "Education                       0.00\n",
      "Salary                         25.31\n",
      "Marital Status                  0.00\n",
      "Loyalty Card                    0.00\n",
      "CLV                             0.00\n",
      "Enrollment Type                 0.00\n",
      "Enrollment Year                 0.00\n",
      "Enrollment Month                0.00\n",
      "Cancellation Year              87.66\n",
      "Cancellation Month             87.66\n",
      "dtype: float64\n"
     ]
    }
   ],
   "source": [
    "# Porcentaje de nulos por columna\n",
    "porcentaje_nulos = (df.isnull().mean() * 100).round(2)\n",
    "print(porcentaje_nulos)"
   ]
  },
  {
   "cell_type": "code",
   "execution_count": 70,
   "id": "c7574c62",
   "metadata": {},
   "outputs": [
    {
     "name": "stdout",
     "output_type": "stream",
     "text": [
      "Columna: Salary\n",
      "Salary\n",
      "NaN         25.312112\n",
      "101933.0     0.136087\n",
      "62283.0      0.082835\n",
      "61809.0      0.082835\n",
      "51573.0      0.082835\n",
      "              ...    \n",
      "46008.0      0.005917\n",
      "78925.0      0.005917\n",
      "50570.0      0.005917\n",
      "103563.0     0.005917\n",
      "56345.0      0.005917\n",
      "Name: proportion, Length: 5891, dtype: float64\n",
      "----------------------------------------\n",
      "Columna: Cancellation Year\n",
      "Cancellation Year\n",
      "NaN       87.657535\n",
      "2018.0     3.857760\n",
      "2017.0     3.005739\n",
      "2016.0     2.532395\n",
      "2015.0     1.597539\n",
      "2014.0     1.088693\n",
      "2013.0     0.260340\n",
      "Name: proportion, dtype: float64\n",
      "----------------------------------------\n",
      "Columna: Cancellation Month\n",
      "Cancellation Month\n",
      "NaN     87.657535\n",
      "11.0     1.272114\n",
      "8.0      1.260280\n",
      "12.0     1.260280\n",
      "7.0      1.124194\n",
      "10.0     1.076859\n",
      "9.0      1.041358\n",
      "6.0      0.982190\n",
      "1.0      0.923022\n",
      "3.0      0.887521\n",
      "5.0      0.881605\n",
      "2.0      0.822437\n",
      "4.0      0.810603\n",
      "Name: proportion, dtype: float64\n",
      "----------------------------------------\n"
     ]
    }
   ],
   "source": [
    "# Distribución de valores en columnas con nulos\n",
    "for col in df.columns[df.isnull().any()]:\n",
    "    print(f\"Columna: {col}\")\n",
    "    print(df[col].value_counts(dropna=False, normalize=True) * 100)\n",
    "    print(\"-\" * 40)"
   ]
  },
  {
   "cell_type": "code",
   "execution_count": 71,
   "id": "b29e04b7",
   "metadata": {},
   "outputs": [
    {
     "name": "stdout",
     "output_type": "stream",
     "text": [
      "Loyalty Number: simétrica (skew=-0.00)\n",
      "Year: simétrica (skew=0.00)\n",
      "Month: simétrica (skew=0.00)\n",
      "Flights Booked: asimétrica (skew=1.04)\n",
      "Flights with Companions: asimétrica (skew=2.15)\n",
      "Total Flights: asimétrica (skew=1.09)\n",
      "Distance: simétrica (skew=0.84)\n",
      "Points Accumulated: simétrica (skew=0.83)\n",
      "Points Redeemed: asimétrica (skew=4.09)\n",
      "Dollar Cost Points Redeemed: asimétrica (skew=4.08)\n",
      "Salary: asimétrica (skew=3.23)\n",
      "CLV: asimétrica (skew=3.06)\n",
      "Enrollment Year: simétrica (skew=-0.11)\n",
      "Enrollment Month: simétrica (skew=-0.04)\n",
      "Cancellation Year: simétrica (skew=-0.62)\n",
      "Cancellation Month: simétrica (skew=-0.19)\n"
     ]
    }
   ],
   "source": [
    "#comprobamos si las columnas son simétricas o no\n",
    "for col in df.select_dtypes(include='number').columns:\n",
    "    skewness = df[col].skew()\n",
    "    if abs(skewness) < 1:\n",
    "        print(f\"{col}: simétrica (skew={skewness:.2f})\")\n",
    "        df[col] = df[col].fillna(df[col].mean())\n",
    "    else:\n",
    "        print(f\"{col}: asimétrica (skew={skewness:.2f})\")\n",
    "        df[col] = df[col].fillna(df[col].median())"
   ]
  },
  {
   "cell_type": "code",
   "execution_count": 72,
   "id": "778438ee",
   "metadata": {},
   "outputs": [
    {
     "data": {
      "text/plain": [
       "Loyalty Number                 0\n",
       "Year                           0\n",
       "Month                          0\n",
       "Flights Booked                 0\n",
       "Flights with Companions        0\n",
       "Total Flights                  0\n",
       "Distance                       0\n",
       "Points Accumulated             0\n",
       "Points Redeemed                0\n",
       "Dollar Cost Points Redeemed    0\n",
       "Country                        0\n",
       "Province                       0\n",
       "City                           0\n",
       "Postal Code                    0\n",
       "Gender                         0\n",
       "Education                      0\n",
       "Salary                         0\n",
       "Marital Status                 0\n",
       "Loyalty Card                   0\n",
       "CLV                            0\n",
       "Enrollment Type                0\n",
       "Enrollment Year                0\n",
       "Enrollment Month               0\n",
       "Cancellation Year              0\n",
       "Cancellation Month             0\n",
       "dtype: int64"
      ]
     },
     "execution_count": 72,
     "metadata": {},
     "output_type": "execute_result"
    }
   ],
   "source": [
    "# Imputar Salary con la mediana porque es asimétrica\n",
    "df['Salary'] = df['Salary'].fillna(df['Salary'].median())\n",
    "#comprobamos sumando de nuevo todos los nulos que queden\n",
    "df.isnull().sum()"
   ]
  },
  {
   "cell_type": "code",
   "execution_count": 73,
   "id": "8da86d3c",
   "metadata": {},
   "outputs": [
    {
     "name": "stdout",
     "output_type": "stream",
     "text": [
      "0         True\n",
      "1         True\n",
      "2         True\n",
      "3         True\n",
      "4         True\n",
      "          ... \n",
      "405619    True\n",
      "405620    True\n",
      "405621    True\n",
      "405622    True\n",
      "405623    True\n",
      "Name: Salary, Length: 405624, dtype: bool\n"
     ]
    }
   ],
   "source": [
    "#usamos un booleano: False si es nulo\n",
    "print(df['Salary'].notnull())"
   ]
  },
  {
   "cell_type": "code",
   "execution_count": 74,
   "id": "22ce1b03",
   "metadata": {},
   "outputs": [
    {
     "name": "stdout",
     "output_type": "stream",
     "text": [
      "0         True\n",
      "1         True\n",
      "2         True\n",
      "3         True\n",
      "4         True\n",
      "          ... \n",
      "405619    True\n",
      "405620    True\n",
      "405621    True\n",
      "405622    True\n",
      "405623    True\n",
      "Name: Salary, Length: 405624, dtype: bool\n"
     ]
    }
   ],
   "source": [
    "#verificamos si salary es positivo porque el dinero no puede ser negativo\n",
    "print(df['Salary'] > 0) # True si es positivo"
   ]
  },
  {
   "cell_type": "code",
   "execution_count": 75,
   "id": "b1c64200",
   "metadata": {},
   "outputs": [
    {
     "name": "stdout",
     "output_type": "stream",
     "text": [
      "0\n",
      "0\n"
     ]
    }
   ],
   "source": [
    "#rellenamos los nulos con 0 de las dos columnas de fechas para que no den errores en los años y meses\n",
    "df['Cancellation Year'] = df['Cancellation Year'].fillna(0).astype(int)\n",
    "df['Cancellation Month'] = df['Cancellation Month'].fillna(0).astype(int)\n",
    "\n",
    "#comprobamos si quedan nulos\n",
    "print(df['Cancellation Year'].isnull().sum())\n",
    "print(df['Cancellation Month'].isnull().sum())"
   ]
  },
  {
   "cell_type": "code",
   "execution_count": 76,
   "id": "a7ec322a",
   "metadata": {},
   "outputs": [
    {
     "name": "stdout",
     "output_type": "stream",
     "text": [
      "int64\n",
      "int64\n",
      "int64\n",
      "int64\n",
      "int64\n",
      "int64\n"
     ]
    }
   ],
   "source": [
    "#verificamos si son enteras todas las columnas que deberían serlo: int64\n",
    "print(df['Cancellation Year'].dtype)\n",
    "print(df['Cancellation Month'].dtype)\n",
    "print(df['Enrollment Year'].dtype)\n",
    "print(df['Enrollment Month'].dtype)\n",
    "print(df['Cancellation Year'].dtype)\n",
    "print(df['Cancellation Month'].dtype)"
   ]
  },
  {
   "cell_type": "markdown",
   "id": "b499e946",
   "metadata": {},
   "source": [
    "# Fase 2: Visualización"
   ]
  },
  {
   "cell_type": "markdown",
   "id": "784fa902",
   "metadata": {},
   "source": [
    "1. ¿Cómo se distribuye la cantidad de vuelos reservados por mes durante el año?"
   ]
  },
  {
   "cell_type": "code",
   "execution_count": 77,
   "id": "40ae87ab",
   "metadata": {},
   "outputs": [
    {
     "data": {
      "image/png": "[encoded data removed]",
      "text/plain": [
       "<Figure size 800x500 with 1 Axes>"
      ]
     },
     "metadata": {},
     "output_type": "display_data"
    }
   ],
   "source": [
    "# graficamos usando el df_activity y agrupamos por las columnas 'Flights Booked' y 'Month'\n",
    "flights_per_month = df_activity.groupby('Month')['Flights Booked'].sum()\n",
    "plt.figure(figsize=(8,5))\n",
    "sns.barplot(x=flights_per_month.index, y=flights_per_month.values, color=\"steelblue\", legend=False)\n",
    "plt.title('Cantidad de vuelos reservados por mes')\n",
    "plt.xlabel('Mes')\n",
    "plt.ylabel('Vuelos reservados')\n",
    "plt.show()"
   ]
  },
  {
   "cell_type": "markdown",
   "id": "64f53943",
   "metadata": {},
   "source": [
    "2. ¿Existe una relación entre la distancia de los vuelos y los puntos acumulados por los cliente?"
   ]
  },
  {
   "cell_type": "code",
   "execution_count": 78,
   "id": "5d7948f9",
   "metadata": {},
   "outputs": [
    {
     "data": {
      "image/png": "[encoded data removed]",
      "text/plain": [
       "<Figure size 800x500 with 1 Axes>"
      ]
     },
     "metadata": {},
     "output_type": "display_data"
    }
   ],
   "source": [
    "# graficamos utilizando el df_activity y las columnas 'Distance' y 'Points Accumulated'\n",
    "plt.figure(figsize=(8,5))\n",
    "sns.scatterplot(data=df_activity, x='Distance', y='Points Accumulated', alpha=0.5)\n",
    "plt.title('Relación entre distancia volada y puntos acumulados')\n",
    "plt.xlabel('Distancia volada')\n",
    "plt.ylabel('Puntos acumulados')\n",
    "plt.show()"
   ]
  },
  {
   "cell_type": "code",
   "execution_count": 79,
   "id": "2c847c98",
   "metadata": {},
   "outputs": [
    {
     "data": {
      "image/png": "[encoded data removed]",
      "text/plain": [
       "<Figure size 800x500 with 1 Axes>"
      ]
     },
     "metadata": {},
     "output_type": "display_data"
    }
   ],
   "source": [
    "# graficamos para ver el tipo de tarjeta\n",
    "df_plot = df_activity.merge(df_loyalty[['Loyalty Number', 'Loyalty Card']], on='Loyalty Number', how='left')\n",
    "plt.figure(figsize=(8,5))\n",
    "sns.scatterplot(data=df_plot, x='Distance', y='Points Accumulated', alpha=0.5, hue='Loyalty Card')\n",
    "plt.title('Relación entre distancia volada y puntos acumulados')\n",
    "plt.xlabel('Distancia volada')\n",
    "plt.ylabel('Puntos acumulados')\n",
    "plt.show()"
   ]
  },
  {
   "cell_type": "markdown",
   "id": "cf71645b",
   "metadata": {},
   "source": [
    "3. ¿Cuál es la distribución de los clientes por provincia o estado?"
   ]
  },
  {
   "cell_type": "code",
   "execution_count": 80,
   "id": "d723bea0",
   "metadata": {},
   "outputs": [
    {
     "data": {
      "image/png": "[encoded data removed]",
      "text/plain": [
       "<Figure size 1000x600 with 1 Axes>"
      ]
     },
     "metadata": {},
     "output_type": "display_data"
    }
   ],
   "source": [
    "# graficamos usando el df_loyalty y la columna 'Province'\n",
    "clientes_por_provincia = df_loyalty['Province'].value_counts()\n",
    "plt.figure(figsize=(10,6))\n",
    "sns.barplot(x=clientes_por_provincia.index, y=clientes_por_provincia.values, palette=\"viridis\")\n",
    "plt.title('Distribución de clientes por provincia/estado')\n",
    "plt.xlabel('Provincia/Estado')\n",
    "plt.ylabel('Cantidad de clientes')\n",
    "plt.xticks(rotation=45)\n",
    "plt.show()"
   ]
  },
  {
   "cell_type": "markdown",
   "id": "1d19c7fa",
   "metadata": {},
   "source": [
    "4. ¿Cómo se compara el salario promedio entre los diferentes niveles educativos de los clientes?"
   ]
  },
  {
   "cell_type": "code",
   "execution_count": 81,
   "id": "838cbb68",
   "metadata": {},
   "outputs": [
    {
     "data": {
      "image/png": "[encoded data removed]",
      "text/plain": [
       "<Figure size 800x500 with 1 Axes>"
      ]
     },
     "metadata": {},
     "output_type": "display_data"
    }
   ],
   "source": [
    "# graficamos utilizando el df_loyalty y agrupamos por las columnas 'Education' y 'Salary'\n",
    "salario_educacion = df_loyalty.groupby('Education')['Salary'].mean().sort_values() #ordena en ascendente\n",
    "plt.figure(figsize=(8,5))\n",
    "sns.barplot(x=salario_educacion.index, y=salario_educacion.values, palette=\"mako\")\n",
    "plt.title('Salario promedio por nivel educativo')\n",
    "plt.xlabel('Nivel educativo')\n",
    "plt.ylabel('Salario promedio')\n",
    "plt.xticks(rotation=45)\n",
    "plt.show()"
   ]
  },
  {
   "cell_type": "code",
   "execution_count": null,
   "id": "8bd75e3a",
   "metadata": {},
   "outputs": [],
   "source": [
    "#vemos que la columna 'College' ya no aparece porque eliminamos sus filas nulas en la limpieza "
   ]
  },
  {
   "cell_type": "code",
   "execution_count": 83,
   "id": "0c8440a5",
   "metadata": {},
   "outputs": [
    {
     "name": "stdout",
     "output_type": "stream",
     "text": [
      "4238\n"
     ]
    }
   ],
   "source": [
    "#printeo la suma de valores nulos que hay en 'College' antes de limpiar\n",
    "print(df_loyalty[df_loyalty['Education'] == 'College']['Salary'].isnull().sum())"
   ]
  },
  {
   "cell_type": "code",
   "execution_count": 84,
   "id": "5bca52ff",
   "metadata": {},
   "outputs": [
    {
     "name": "stdout",
     "output_type": "stream",
     "text": [
      "0\n"
     ]
    }
   ],
   "source": [
    "# muestro la suma de valores nulos que hay en 'College' después de limpiar\n",
    "print(df[df['Education'] == 'College']['Salary'].isnull().sum())"
   ]
  },
  {
   "cell_type": "code",
   "execution_count": 85,
   "id": "92c05717",
   "metadata": {},
   "outputs": [
    {
     "data": {
      "image/png": "[encoded data removed]",
      "text/plain": [
       "<Figure size 800x500 with 1 Axes>"
      ]
     },
     "metadata": {},
     "output_type": "display_data"
    }
   ],
   "source": [
    "# graficamos el código sin 'College'\n",
    "salario_educacion = df_loyalty.groupby('Education')['Salary'].mean().sort_values().dropna() #ordena en ascendente y elimina NaN\n",
    "plt.figure(figsize=(8,5))\n",
    "sns.barplot(x=salario_educacion.index, y=salario_educacion.values, palette=\"mako\")\n",
    "plt.title('Salario promedio por nivel educativo')\n",
    "plt.xlabel('Nivel educativo')\n",
    "plt.ylabel('Salario promedio')\n",
    "plt.xticks(rotation=45)\n",
    "plt.show()"
   ]
  },
  {
   "cell_type": "markdown",
   "id": "1830c628",
   "metadata": {},
   "source": [
    "5. ¿Cuál es la proporción de clientes con diferentes tipos de tarjetas de fidelidad? "
   ]
  },
  {
   "cell_type": "code",
   "execution_count": 86,
   "id": "4800f116",
   "metadata": {},
   "outputs": [
    {
     "data": {
      "image/png": "[encoded data removed]",
      "text/plain": [
       "<Figure size 700x700 with 1 Axes>"
      ]
     },
     "metadata": {},
     "output_type": "display_data"
    }
   ],
   "source": [
    "# graficamos usando el df_loyalty y la columna 'Loyalty Card'\n",
    "tarjetas = df_loyalty['Loyalty Card'].value_counts()\n",
    "plt.figure(figsize=(7,7))\n",
    "plt.pie(tarjetas.values, labels=tarjetas.index, autopct='%1.1f%%', startangle=140, colors=sns.color_palette('pastel'))\n",
    "plt.title('Proporción de tipos de tarjetas de fidelidad')\n",
    "plt.show()"
   ]
  },
  {
   "cell_type": "markdown",
   "id": "6102fa38",
   "metadata": {},
   "source": [
    "6. ¿Cómo se distribuyen los clientes según su estado civil y género?"
   ]
  },
  {
   "cell_type": "code",
   "execution_count": 87,
   "id": "d6362070",
   "metadata": {},
   "outputs": [
    {
     "data": {
      "image/png": "[encoded data removed]",
      "text/plain": [
       "<Figure size 800x500 with 1 Axes>"
      ]
     },
     "metadata": {},
     "output_type": "display_data"
    }
   ],
   "source": [
    "# graficamos utilizando el df_loyalty y las columnas 'Marital Status' y 'Gender'\n",
    "plt.figure(figsize=(8,5))\n",
    "sns.countplot(data=df_loyalty, x='Marital Status', hue='Gender', palette=\"Set2\") #hue separa las barras por la columna 'Gender'\n",
    "plt.title('Distribución de clientes por estado civil y género')\n",
    "plt.xlabel('Estado civil')\n",
    "plt.ylabel('Cantidad de clientes')\n",
    "plt.show()"
   ]
  },
  {
   "cell_type": "markdown",
   "id": "db887c40",
   "metadata": {},
   "source": [
    "# Fase 3: BONUS"
   ]
  },
  {
   "cell_type": "markdown",
   "id": "b5c02d7c",
   "metadata": {},
   "source": [
    "## 1. Preparación de Datos"
   ]
  },
  {
   "cell_type": "markdown",
   "id": "0ec4a0c2",
   "metadata": {},
   "source": [
    "¿Existe alguna relación entre el número de vuelos reservados y el nivel educativo?"
   ]
  },
  {
   "cell_type": "code",
   "execution_count": 88,
   "id": "9f90b79a",
   "metadata": {},
   "outputs": [
    {
     "name": "stdout",
     "output_type": "stream",
     "text": [
      "   Flights Booked Education\n",
      "0               3  Bachelor\n",
      "1              10   College\n",
      "2               6   College\n",
      "3               0  Bachelor\n",
      "4               0  Bachelor\n"
     ]
    }
   ],
   "source": [
    "# creamos un nuevo DataFrame con las columnas relevantes para hacer intersección interna por la columna 'Loyalty Number' porque es el identificador únco en ambos archivos\n",
    "df_merge = df_activity[['Loyalty Number', 'Flights Booked']].merge(df_loyalty[['Loyalty Number', 'Education']], on='Loyalty Number', how='left') #left une todas las filas de las 2 columnas de df_activity (a la izquierda) \n",
    "df_filtrado = df_merge[['Flights Booked', 'Education']] #filtro solo por las columnas 'Flights Booked' y 'Education'\n",
    "print(df_filtrado.head())"
   ]
  },
  {
   "cell_type": "markdown",
   "id": "95496139",
   "metadata": {},
   "source": [
    "## 2. Análisis Descriptivo"
   ]
  },
  {
   "cell_type": "code",
   "execution_count": 89,
   "id": "7811f658",
   "metadata": {},
   "outputs": [
    {
     "data": {
      "text/html": [
       "<div>\n",
       "<style scoped>\n",
       "    .dataframe tbody tr th:only-of-type {\n",
       "        vertical-align: middle;\n",
       "    }\n",
       "\n",
       "    .dataframe tbody tr th {\n",
       "        vertical-align: top;\n",
       "    }\n",
       "\n",
       "    .dataframe thead th {\n",
       "        text-align: right;\n",
       "    }\n",
       "</style>\n",
       "<table border=\"1\" class=\"dataframe\">\n",
       "  <thead>\n",
       "    <tr style=\"text-align: right;\">\n",
       "      <th></th>\n",
       "      <th>count</th>\n",
       "      <th>mean</th>\n",
       "      <th>std</th>\n",
       "      <th>min</th>\n",
       "      <th>25%</th>\n",
       "      <th>50%</th>\n",
       "      <th>75%</th>\n",
       "      <th>max</th>\n",
       "    </tr>\n",
       "    <tr>\n",
       "      <th>Education</th>\n",
       "      <th></th>\n",
       "      <th></th>\n",
       "      <th></th>\n",
       "      <th></th>\n",
       "      <th></th>\n",
       "      <th></th>\n",
       "      <th></th>\n",
       "      <th></th>\n",
       "    </tr>\n",
       "  </thead>\n",
       "  <tbody>\n",
       "    <tr>\n",
       "      <th>Bachelor</th>\n",
       "      <td>253752.0</td>\n",
       "      <td>4.091093</td>\n",
       "      <td>5.216995</td>\n",
       "      <td>0.0</td>\n",
       "      <td>0.0</td>\n",
       "      <td>1.0</td>\n",
       "      <td>8.0</td>\n",
       "      <td>21.0</td>\n",
       "    </tr>\n",
       "    <tr>\n",
       "      <th>College</th>\n",
       "      <td>102672.0</td>\n",
       "      <td>4.153012</td>\n",
       "      <td>5.242136</td>\n",
       "      <td>0.0</td>\n",
       "      <td>0.0</td>\n",
       "      <td>1.0</td>\n",
       "      <td>8.0</td>\n",
       "      <td>21.0</td>\n",
       "    </tr>\n",
       "    <tr>\n",
       "      <th>Doctor</th>\n",
       "      <td>17856.0</td>\n",
       "      <td>4.146281</td>\n",
       "      <td>5.250093</td>\n",
       "      <td>0.0</td>\n",
       "      <td>0.0</td>\n",
       "      <td>1.0</td>\n",
       "      <td>8.0</td>\n",
       "      <td>21.0</td>\n",
       "    </tr>\n",
       "    <tr>\n",
       "      <th>High School or Below</th>\n",
       "      <td>19008.0</td>\n",
       "      <td>4.155777</td>\n",
       "      <td>5.234551</td>\n",
       "      <td>0.0</td>\n",
       "      <td>0.0</td>\n",
       "      <td>1.0</td>\n",
       "      <td>8.0</td>\n",
       "      <td>21.0</td>\n",
       "    </tr>\n",
       "    <tr>\n",
       "      <th>Master</th>\n",
       "      <td>12336.0</td>\n",
       "      <td>4.184014</td>\n",
       "      <td>5.210294</td>\n",
       "      <td>0.0</td>\n",
       "      <td>0.0</td>\n",
       "      <td>1.0</td>\n",
       "      <td>8.0</td>\n",
       "      <td>21.0</td>\n",
       "    </tr>\n",
       "  </tbody>\n",
       "</table>\n",
       "</div>"
      ],
      "text/plain": [
       "                         count      mean       std  min  25%  50%  75%   max\n",
       "Education                                                                   \n",
       "Bachelor              253752.0  4.091093  5.216995  0.0  0.0  1.0  8.0  21.0\n",
       "College               102672.0  4.153012  5.242136  0.0  0.0  1.0  8.0  21.0\n",
       "Doctor                 17856.0  4.146281  5.250093  0.0  0.0  1.0  8.0  21.0\n",
       "High School or Below   19008.0  4.155777  5.234551  0.0  0.0  1.0  8.0  21.0\n",
       "Master                 12336.0  4.184014  5.210294  0.0  0.0  1.0  8.0  21.0"
      ]
     },
     "execution_count": 89,
     "metadata": {},
     "output_type": "execute_result"
    }
   ],
   "source": [
    "# agrupamos por las 2 columnas para mostrar las estadísticas descriptivas básicas \n",
    "df_filtrado.groupby('Education')['Flights Booked'].describe() #no hace falta poner T."
   ]
  },
  {
   "cell_type": "markdown",
   "id": "30bf6ba4",
   "metadata": {},
   "source": [
    "## 3. Prueba Estadística"
   ]
  },
  {
   "cell_type": "code",
   "execution_count": 96,
   "id": "bdf7338a",
   "metadata": {},
   "outputs": [
    {
     "name": "stdout",
     "output_type": "stream",
     "text": [
      "Mann-Whitney U statistic: 169,260,336.50\n",
      "p-value: 0.64\n"
     ]
    }
   ],
   "source": [
    "# finalmente, al ser asimétrica hacemos una prueba de hipótesis con Mann-Whitney U para comparar promedio de los vuelos reservados entre los sectores 'Doctor' y 'High School or Below'\n",
    "grupo1 = df_filtrado[df_filtrado['Education'] == 'Doctor']['Flights Booked']\n",
    "grupo2 = df_filtrado[df_filtrado['Education'] == 'High School or Below']['Flights Booked']\n",
    "\n",
    "stat, p_value = mannwhitneyu(grupo1, grupo2, alternative='two-sided')\n",
    "print(\"Mann-Whitney U statistic: {:,.2f}\".format(stat))\n",
    "print(\"p-value:\", round(p_value, 2))"
   ]
  },
  {
   "cell_type": "markdown",
   "id": "1fb32089",
   "metadata": {},
   "source": [
    "El resultado de p-value es 0.64, lo que indica que no hay una diferencia significativa en el número de vuelos reservados entre los sectores 'Doctor' y 'High School or Below', ya que es mayor que 0.05. "
   ]
  },
  {
   "cell_type": "code",
   "execution_count": 100,
   "id": "e13a13d7",
   "metadata": {},
   "outputs": [
    {
     "name": "stdout",
     "output_type": "stream",
     "text": [
      "Mann-Whitney U statistic: 1,584,899,396.50\n",
      "p-value: 0.01\n"
     ]
    }
   ],
   "source": [
    "# y ahora la hacemos entre los sectores 'Master' y 'Bachelor'\n",
    "grupo1 = df_filtrado[df_filtrado['Education'] == 'Master']['Flights Booked']\n",
    "grupo2 = df_filtrado[df_filtrado['Education'] == 'Bachelor']['Flights Booked']\n",
    "\n",
    "stat, p_value = mannwhitneyu(grupo1, grupo2, alternative='two-sided')\n",
    "print(\"Mann-Whitney U statistic:\", \"{:,.2f}\".format(stat))\n",
    "print(\"p-value:\", round(p_value, 2))"
   ]
  },
  {
   "cell_type": "markdown",
   "id": "a57d4eef",
   "metadata": {},
   "source": [
    "Sin embargo, si luego comparamos los sectores 'Master' y 'Bachelor', nos da a entender que la diferencia es mayor que en el caso anterior porque p-value es 0.01. \n",
    "\n",
    "### **En conclusión, la prueba de hipótesis realizada significa que no hay relación uniforme entre los diferentes sectores y las reservas realizadas porque a veces las hacen más los del nivel educativo superior y en otras ocasiones los del inferior.**"
   ]
  }
 ],
 "metadata": {
  "kernelspec": {
   "display_name": "base",
   "language": "python",
   "name": "python3"
  },
  "language_info": {
   "codemirror_mode": {
    "name": "ipython",
    "version": 3
   },
   "file_extension": ".py",
   "mimetype": "text/x-python",
   "name": "python",
   "nbconvert_exporter": "python",
   "pygments_lexer": "ipython3",
   "version": "3.13.5"
  }
 },
 "nbformat": 4,
 "nbformat_minor": 5
}
